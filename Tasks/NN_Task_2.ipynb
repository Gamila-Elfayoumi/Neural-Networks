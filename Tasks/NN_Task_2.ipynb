{
  "nbformat": 4,
  "nbformat_minor": 0,
  "metadata": {
    "colab": {
      "provenance": []
    },
    "kernelspec": {
      "name": "python3",
      "display_name": "Python 3"
    },
    "language_info": {
      "name": "python"
    }
  },
  "cells": [
    {
      "cell_type": "code",
      "execution_count": 1,
      "metadata": {
        "id": "izZ97j1WjxP8"
      },
      "outputs": [],
      "source": [
        "import torch\n",
        "import torch.nn as nn\n",
        "import torch.optim as optim\n",
        "import torchvision\n",
        "import torchvision.transforms as transforms"
      ]
    },
    {
      "cell_type": "code",
      "source": [
        "import matplotlib.pyplot as plt\n",
        "import torchvision\n",
        "\n",
        "# Load the MNIST dataset\n",
        "transform = torchvision.transforms.Compose([torchvision.transforms.ToTensor()])\n",
        "dataset = torchvision.datasets.MNIST(root='./data', train=True, transform=transform, download=True)\n",
        "\n",
        "# Get some images and labels\n",
        "fig, axes = plt.subplots(3, 3, figsize=(6, 6))  # 3x3 grid\n",
        "for i, ax in enumerate(axes.flat):\n",
        "    image, label = dataset[i]\n",
        "    ax.imshow(image.squeeze(), cmap='gray')  # Remove extra dimensions and display in grayscale\n",
        "    ax.set_title(f'Label: {label}')\n",
        "    ax.axis('off')"
      ],
      "metadata": {
        "colab": {
          "base_uri": "https://localhost:8080/",
          "height": 590
        },
        "id": "ZPcmz8T_rx7_",
        "outputId": "cc286bd3-689c-4631-dafc-051d3003f1ed"
      },
      "execution_count": 2,
      "outputs": [
        {
          "output_type": "stream",
          "name": "stderr",
          "text": [
            "100%|██████████| 9.91M/9.91M [00:00<00:00, 16.5MB/s]\n",
            "100%|██████████| 28.9k/28.9k [00:00<00:00, 494kB/s]\n",
            "100%|██████████| 1.65M/1.65M [00:00<00:00, 4.58MB/s]\n",
            "100%|██████████| 4.54k/4.54k [00:00<00:00, 4.47MB/s]\n"
          ]
        },
        {
          "output_type": "display_data",
          "data": {
            "text/plain": [
              "<Figure size 600x600 with 9 Axes>"
            ],
            "image/png": "[encoded data removed]"
          },
          "metadata": {}
        }
      ]
    },
    {
      "cell_type": "markdown",
      "source": [
        "## Model description:\n",
        "     1### First fully connected (linear) layer:\n",
        "        1. It takes a flattened image of size 28*28 (784) as input\n",
        "        2. and outputs a feature vector of size 128.\n",
        "\n",
        "     2### ReLU activation function, applied element-wise.\n",
        "\n",
        "     3### Second fully connected (linear) layer:\n",
        "        1. It takes the 128-dimensional feature vector from the first layer\n",
        "        2. and maps it to 10 outputs, corresponding to the number of classes.\n",
        "      "
      ],
      "metadata": {
        "id": "5a5ZnKzFMK1R"
      }
    },
    {
      "cell_type": "code",
      "source": [
        "class SimpleNN(nn.Module):\n",
        "    def __init__(self):\n",
        "        super(SimpleNN, self).__init__()\n",
        "        self.fc1 = nn.Linear(28*28, 128)\n",
        "        self.relu = nn.ReLU()\n",
        "        self.fc2 = nn.Linear(128, 10)\n",
        "\n",
        "    def forward(self, x):\n",
        "        x = x.view(-1, 28*28)  # Flatten the image\n",
        "        x = self.fc1(x)\n",
        "        x = self.relu(x)\n",
        "        x = self.fc2(x)\n",
        "        return x"
      ],
      "metadata": {
        "id": "B6THwvoorO_6"
      },
      "execution_count": 3,
      "outputs": []
    },
    {
      "cell_type": "code",
      "source": [
        "# Load the MNIST dataset\n",
        "transform = transforms.Compose([transforms.ToTensor(), transforms.Normalize((0.5,), (0.5,))])\n",
        "train_dataset = torchvision.datasets.MNIST(root='./data', train=True, transform=transform, download=True)\n",
        "test_dataset = torchvision.datasets.MNIST(root='./data', train=False, transform=transform, download=True)\n",
        "\n",
        "train_loader = torch.utils.data.DataLoader(dataset=train_dataset, batch_size=64, shuffle=True)\n",
        "test_loader = torch.utils.data.DataLoader(dataset=test_dataset, batch_size=64, shuffle=False)\n"
      ],
      "metadata": {
        "id": "U-vEhW6xsHqM"
      },
      "execution_count": 4,
      "outputs": []
    },
    {
      "cell_type": "markdown",
      "source": [
        "## let:\n",
        "1. Intialize the Model\n",
        "2. using the loss function --> CrossEntropyLoss\n",
        "3. optimization using SGD stochastic gradient descent  \n",
        "\n",
        "## try to change the SGD to Adam and run again:\n",
        "This will let the model work well the accuracy will increase"
      ],
      "metadata": {
        "id": "uLNes0U5NOMS"
      }
    },
    {
      "cell_type": "code",
      "source": [
        "# Initialize the model, loss function, and optimizer\n",
        "model = SimpleNN()\n",
        "criterion = nn.CrossEntropyLoss()\n",
        "optimizer = optim.SGD(model.parameters(), lr=0.001)"
      ],
      "metadata": {
        "id": "LgDWsIjKsMeB"
      },
      "execution_count": 10,
      "outputs": []
    },
    {
      "cell_type": "code",
      "source": [
        "# Training loop\n",
        "epochs = 5\n",
        "correct = 0 # Initialize correct to 0 before the loop\n",
        "total = 0  # Initialize total to 0 before the loop\n",
        "for epoch in range(epochs):\n",
        "    for images, labels in train_loader:\n",
        "        optimizer.zero_grad()\n",
        "        outputs = model(images)\n",
        "        loss = criterion(outputs, labels)\n",
        "        loss.backward()\n",
        "        optimizer.step()\n",
        "\n",
        "        _, predicted = torch.max(outputs, 1)\n",
        "        total += labels.size(0)\n",
        "        correct += (predicted == labels).sum().item()\n",
        "\n",
        "    accuracy = 100 * correct / total\n",
        "    print(f'Epoch [{epoch+1}/{epochs}], Loss: {loss.item():.4f}, Accuracy: {accuracy:.2f}%')\n",
        "\n"
      ],
      "metadata": {
        "colab": {
          "base_uri": "https://localhost:8080/"
        },
        "id": "oLiXNNyMsN5k",
        "outputId": "ad5bbd48-bcad-4cdf-93df-9a378595dc5d"
      },
      "execution_count": 6,
      "outputs": [
        {
          "output_type": "stream",
          "name": "stdout",
          "text": [
            "Epoch [1/5], Loss: 1.5714, Accuracy: 55.75%\n",
            "Epoch [2/5], Loss: 1.0114, Accuracy: 66.78%\n",
            "Epoch [3/5], Loss: 0.7614, Accuracy: 72.14%\n",
            "Epoch [4/5], Loss: 0.6938, Accuracy: 75.32%\n",
            "Epoch [5/5], Loss: 0.4677, Accuracy: 77.48%\n"
          ]
        }
      ]
    },
    {
      "cell_type": "code",
      "source": [
        "# Testing loop\n",
        "correct = 0\n",
        "total = 0\n",
        "with torch.no_grad():\n",
        "    for images, labels in test_loader:\n",
        "        outputs = model(images)\n",
        "        _, predicted = torch.max(outputs, 1)\n",
        "        total += labels.size(0)\n",
        "        correct += (predicted == labels).sum().item()\n",
        "\n",
        "print(f'Accuracy: {100 * correct / total:.2f}%')"
      ],
      "metadata": {
        "colab": {
          "base_uri": "https://localhost:8080/"
        },
        "id": "Ak8dBgXMsdXU",
        "outputId": "9c7900c7-3465-4e08-b664-613670acfe13"
      },
      "execution_count": 7,
      "outputs": [
        {
          "output_type": "stream",
          "name": "stdout",
          "text": [
            "Accuracy: 87.28%\n"
          ]
        }
      ]
    },
    {
      "cell_type": "code",
      "source": [
        "# Function to test with a given input\n",
        "def predict_image(image):\n",
        "    model.eval()\n",
        "    with torch.no_grad():\n",
        "        output = model(image)\n",
        "        _, predicted = torch.max(output, 1)\n",
        "    return predicted.item()\n",
        "\n",
        "# Get a sample image from test set and predict its label\n",
        "sample_image, sample_label = test_dataset[0]\n",
        "sample_image = sample_image.unsqueeze(0)  # Add batch dimension\n",
        "predicted_label = predict_image(sample_image)\n",
        "\n",
        "# Display the image\n",
        "plt.imshow(sample_image.squeeze().numpy(), cmap='gray')\n",
        "plt.title(f'Predicted Label: {predicted_label}')\n",
        "plt.show()"
      ],
      "metadata": {
        "colab": {
          "base_uri": "https://localhost:8080/",
          "height": 452
        },
        "id": "VsB8BoSLtJye",
        "outputId": "58c1d83f-84c2-4bca-d2c5-815101fc75a5"
      },
      "execution_count": 9,
      "outputs": [
        {
          "output_type": "display_data",
          "data": {
            "text/plain": [
              "<Figure size 640x480 with 1 Axes>"
            ],
            "image/png": "[encoded data removed]"
          },
          "metadata": {}
        }
      ]
    }
  ]
}