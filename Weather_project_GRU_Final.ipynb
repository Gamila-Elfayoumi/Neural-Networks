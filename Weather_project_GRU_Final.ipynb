{
  "nbformat": 4,
  "nbformat_minor": 0,
  "metadata": {
    "colab": {
      "provenance": [],
      "mount_file_id": "1uvq_MlMMCJ7lVW9SsvMrLUR6Cw7EEq9N",
      "authorship_tag": "ABX9TyOiYdfGDrhcf2XUN8bIJ0r5",
      "include_colab_link": true
    },
    "kernelspec": {
      "name": "python3",
      "display_name": "Python 3"
    },
    "language_info": {
      "name": "python"
    }
  },
  "cells": [
    {
      "cell_type": "markdown",
      "metadata": {
        "id": "view-in-github",
        "colab_type": "text"
      },
      "source": [
        "<a href=\"https://colab.research.google.com/github/Gamila-Elfayoumi/Neural-Networks/blob/main/Weather_project_GRU_Final.ipynb\" target=\"_parent\"><img src=\"https://colab.research.google.com/assets/colab-badge.svg\" alt=\"Open In Colab\"/></a>"
      ]
    },
    {
      "cell_type": "code",
      "execution_count": 1,
      "metadata": {
        "id": "SRXoGbIdHJL_"
      },
      "outputs": [],
      "source": [
        "import numpy as np\n",
        "import pandas as pd\n",
        "import matplotlib.pyplot as plt\n",
        "import torch\n",
        "import torch.nn as nn\n",
        "import torch.optim as optim\n",
        "from torch.utils.data import Dataset, DataLoader\n",
        "from sklearn.preprocessing import MinMaxScaler\n",
        "from pathlib import Path"
      ]
    },
    {
      "cell_type": "code",
      "source": [
        "# ============================\n",
        "# Data Loading & Preprocessing\n",
        "# ============================\n",
        "# Load the weather dataset. Adjust the file path as needed.\n",
        "data = pd.read_csv('/content/drive/MyDrive/Data Set/weatherHistory.csv')\n",
        "\n",
        "# Print an initial preview and data info.\n",
        "print(\"Initial Data Preview:\")\n",
        "print(data.head())\n",
        "print(\"\\nData Info:\")\n",
        "print(data.info())\n"
      ],
      "metadata": {
        "colab": {
          "base_uri": "https://localhost:8080/"
        },
        "id": "48YiesG5HpSm",
        "outputId": "a14db0d6-3c69-4bc1-8117-51579c16d77d"
      },
      "execution_count": 2,
      "outputs": [
        {
          "output_type": "stream",
          "name": "stdout",
          "text": [
            "Initial Data Preview:\n",
            "                  Formatted Date        Summary Precip Type  Temperature (C)  \\\n",
            "0  2006-04-01 00:00:00.000 +0200  Partly Cloudy        rain         9.472222   \n",
            "1  2006-04-01 01:00:00.000 +0200  Partly Cloudy        rain         9.355556   \n",
            "2  2006-04-01 02:00:00.000 +0200  Mostly Cloudy        rain         9.377778   \n",
            "3  2006-04-01 03:00:00.000 +0200  Partly Cloudy        rain         8.288889   \n",
            "4  2006-04-01 04:00:00.000 +0200  Mostly Cloudy        rain         8.755556   \n",
            "\n",
            "   Apparent Temperature (C)  Humidity  Wind Speed (km/h)  \\\n",
            "0                  7.388889      0.89            14.1197   \n",
            "1                  7.227778      0.86            14.2646   \n",
            "2                  9.377778      0.89             3.9284   \n",
            "3                  5.944444      0.83            14.1036   \n",
            "4                  6.977778      0.83            11.0446   \n",
            "\n",
            "   Wind Bearing (degrees)  Visibility (km)  Loud Cover  Pressure (millibars)  \\\n",
            "0                   251.0          15.8263         0.0               1015.13   \n",
            "1                   259.0          15.8263         0.0               1015.63   \n",
            "2                   204.0          14.9569         0.0               1015.94   \n",
            "3                   269.0          15.8263         0.0               1016.41   \n",
            "4                   259.0          15.8263         0.0               1016.51   \n",
            "\n",
            "                       Daily Summary  \n",
            "0  Partly cloudy throughout the day.  \n",
            "1  Partly cloudy throughout the day.  \n",
            "2  Partly cloudy throughout the day.  \n",
            "3  Partly cloudy throughout the day.  \n",
            "4  Partly cloudy throughout the day.  \n",
            "\n",
            "Data Info:\n",
            "<class 'pandas.core.frame.DataFrame'>\n",
            "RangeIndex: 96453 entries, 0 to 96452\n",
            "Data columns (total 12 columns):\n",
            " #   Column                    Non-Null Count  Dtype  \n",
            "---  ------                    --------------  -----  \n",
            " 0   Formatted Date            96453 non-null  object \n",
            " 1   Summary                   96453 non-null  object \n",
            " 2   Precip Type               95936 non-null  object \n",
            " 3   Temperature (C)           96453 non-null  float64\n",
            " 4   Apparent Temperature (C)  96453 non-null  float64\n",
            " 5   Humidity                  96453 non-null  float64\n",
            " 6   Wind Speed (km/h)         96453 non-null  float64\n",
            " 7   Wind Bearing (degrees)    96453 non-null  float64\n",
            " 8   Visibility (km)           96453 non-null  float64\n",
            " 9   Loud Cover                96453 non-null  float64\n",
            " 10  Pressure (millibars)      96453 non-null  float64\n",
            " 11  Daily Summary             96453 non-null  object \n",
            "dtypes: float64(8), object(4)\n",
            "memory usage: 8.8+ MB\n",
            "None\n"
          ]
        }
      ]
    },
    {
      "cell_type": "code",
      "source": [
        "# Select the relevant numerical features.\n",
        "cols = ['Temperature (C)', 'Humidity', 'Wind Speed (km/h)', 'Visibility (km)', 'Pressure (millibars)']\n",
        "data = data[cols]\n",
        "\n",
        "# Fill missing values by forward filling and then backward filling.\n",
        "data = data.ffill().bfill()\n",
        "\n",
        "print(\"\\nData Info After Preprocessing:\")\n",
        "print(data.info())"
      ],
      "metadata": {
        "colab": {
          "base_uri": "https://localhost:8080/"
        },
        "id": "7uYdabGAHs_K",
        "outputId": "0d3474cf-f8f6-49ec-c6e8-c50768d9439a"
      },
      "execution_count": 3,
      "outputs": [
        {
          "output_type": "stream",
          "name": "stdout",
          "text": [
            "\n",
            "Data Info After Preprocessing:\n",
            "<class 'pandas.core.frame.DataFrame'>\n",
            "RangeIndex: 96453 entries, 0 to 96452\n",
            "Data columns (total 5 columns):\n",
            " #   Column                Non-Null Count  Dtype  \n",
            "---  ------                --------------  -----  \n",
            " 0   Temperature (C)       96453 non-null  float64\n",
            " 1   Humidity              96453 non-null  float64\n",
            " 2   Wind Speed (km/h)     96453 non-null  float64\n",
            " 3   Visibility (km)       96453 non-null  float64\n",
            " 4   Pressure (millibars)  96453 non-null  float64\n",
            "dtypes: float64(5)\n",
            "memory usage: 3.7 MB\n",
            "None\n"
          ]
        }
      ]
    },
    {
      "cell_type": "code",
      "source": [
        "\n",
        "# Ensure a temperature column exists (case-insensitive search).\n",
        "temp_col = None\n",
        "for col in data.columns:\n",
        "    if 'temp' in col.lower():\n",
        "        temp_col = col\n",
        "        break\n",
        "if temp_col is None:\n",
        "    raise ValueError(\"No temperature column found in the dataset.\")\n"
      ],
      "metadata": {
        "id": "Wmo08iZlH97e"
      },
      "execution_count": 4,
      "outputs": []
    },
    {
      "cell_type": "code",
      "source": [
        "# ============================\n",
        "# Data Normalization & Sequence Creation\n",
        "# ============================\n",
        "# Convert the DataFrame to a numpy array and normalize the values between 0 and 1.\n",
        "scaler = MinMaxScaler()\n",
        "data_array = data.values.astype(np.float32)\n",
        "data_scaled = scaler.fit_transform(data_array)\n",
        "\n",
        "def create_sequences(data, seq_length, target_col_idx=0):\n",
        "    \"\"\"\n",
        "    Create time-series sequences from the data.\n",
        "\n",
        "    Each sequence of length 'seq_length' is used to predict the next value\n",
        "    from the target column.\n",
        "\n",
        "    Parameters:\n",
        "    - data: numpy array of shape (num_samples, num_features)\n",
        "    - seq_length: length of each input sequence\n",
        "    - target_col_idx: index of the target feature (default is 0 for Temperature)\n",
        "\n",
        "    Returns:\n",
        "    - xs: numpy array of input sequences of shape (num_samples - seq_length, seq_length, num_features)\n",
        "    - ys: numpy array of target values of shape (num_samples - seq_length,)\n",
        "    \"\"\"\n",
        "    xs, ys = [], []\n",
        "    for i in range(len(data) - seq_length):\n",
        "        x = data[i:i+seq_length]\n",
        "        y = data[i+seq_length, target_col_idx]\n",
        "        xs.append(x)\n",
        "        ys.append(y)\n",
        "    return np.array(xs), np.array(ys)\n",
        "\n",
        "seq_length = 10  # You can adjust this window size.\n",
        "X, y = create_sequences(data_scaled, seq_length, target_col_idx=0)\n",
        "\n",
        "# Split the sequences into training (80%) and testing (20%) sets.\n",
        "train_size = int(0.8 * len(X))\n",
        "X_train, y_train = X[:train_size], y[:train_size]\n",
        "X_test, y_test   = X[train_size:], y[train_size:]\n"
      ],
      "metadata": {
        "id": "vfk9VvCEIDQu"
      },
      "execution_count": 5,
      "outputs": []
    },
    {
      "cell_type": "code",
      "source": [
        "# ============================\n",
        "# PyTorch Dataset & DataLoader Creation\n",
        "# ============================\n",
        "class TimeSeriesDataset(Dataset):\n",
        "    \"\"\"\n",
        "    Custom Dataset class for time-series data.\n",
        "\n",
        "    Converts numpy arrays into torch tensors.\n",
        "    \"\"\"\n",
        "    def __init__(self, X, y):\n",
        "        self.X = torch.from_numpy(X)  # Shape: (samples, seq_length, num_features)\n",
        "        self.y = torch.from_numpy(y).unsqueeze(-1)  # Shape: (samples, 1)\n",
        "\n",
        "    def __len__(self):\n",
        "        return len(self.X)\n",
        "\n",
        "    def __getitem__(self, idx):\n",
        "        return self.X[idx], self.y[idx]\n",
        "\n",
        "batch_size = 128\n",
        "train_dataset = TimeSeriesDataset(X_train, y_train)\n",
        "test_dataset  = TimeSeriesDataset(X_test, y_test)\n",
        "train_loader  = DataLoader(train_dataset, batch_size=batch_size, shuffle=True)\n",
        "test_loader   = DataLoader(test_dataset, batch_size=batch_size, shuffle=False)\n"
      ],
      "metadata": {
        "id": "4xpa9gd2IF0h"
      },
      "execution_count": 6,
      "outputs": []
    },
    {
      "cell_type": "code",
      "source": [
        "# ============================\n",
        "# Define the GRU Model\n",
        "# ============================\n",
        "class GRUModel(nn.Module):\n",
        "    def __init__(self, input_size, hidden_size, num_layers, output_size, dropout=0.1):\n",
        "        \"\"\"\n",
        "        GRU-based model for time-series forecasting.\n",
        "\n",
        "        Parameters:\n",
        "        - input_size: Number of features per time step.\n",
        "        - hidden_size: Number of units in the GRU hidden layer.\n",
        "        - num_layers: Number of stacked GRU layers.\n",
        "        - output_size: Number of outputs (e.g., 1 for temperature).\n",
        "        - dropout: Dropout probability between GRU layers.\n",
        "        \"\"\"\n",
        "        super(GRUModel, self).__init__()\n",
        "        self.hidden_size = hidden_size\n",
        "        self.num_layers = num_layers\n",
        "\n",
        "        # Define the GRU layer; 'batch_first=True' expects input shape (batch, seq_length, input_size)\n",
        "        self.gru = nn.GRU(input_size, hidden_size, num_layers, dropout=dropout, batch_first=True)\n",
        "        # Fully connected layer to map GRU output to final prediction.\n",
        "        self.fc = nn.Linear(hidden_size, output_size)\n",
        "\n",
        "    def forward(self, x):\n",
        "        \"\"\"\n",
        "        Forward pass for the GRU model.\n",
        "\n",
        "        Parameters:\n",
        "        - x: Input tensor of shape (batch, seq_length, input_size)\n",
        "\n",
        "        Returns:\n",
        "        - out: Prediction tensor of shape (batch, output_size)\n",
        "        \"\"\"\n",
        "        # Initialize hidden state with zeros.\n",
        "        h0 = torch.zeros(self.num_layers, x.size(0), self.hidden_size).to(x.device)\n",
        "        # Forward propagate through GRU layers.\n",
        "        out, _ = self.gru(x, h0)\n",
        "        # Use the output from the last time step.\n",
        "        out = out[:, -1, :]\n",
        "        # Map through the fully connected layer.\n",
        "        out = self.fc(out)\n",
        "        return out\n"
      ],
      "metadata": {
        "id": "Vu-UPvu7IKAB"
      },
      "execution_count": 7,
      "outputs": []
    },
    {
      "cell_type": "code",
      "source": [
        "# ============================\n",
        "# Training and Evaluation Functions\n",
        "# ============================\n",
        "def compute_epoch_accuracy(model, loader, device, tolerance=0.1):\n",
        "    \"\"\"\n",
        "    Compute accuracy as the percentage of predictions within a specified tolerance.\n",
        "\n",
        "    Parameters:\n",
        "    - model: Trained model.\n",
        "    - loader: DataLoader for evaluation data.\n",
        "    - device: CPU or GPU device.\n",
        "    - tolerance: Allowed difference between prediction and true value.\n",
        "\n",
        "    Returns:\n",
        "    - Accuracy percentage.\n",
        "    \"\"\"\n",
        "    model.eval()\n",
        "    correct = 0\n",
        "    total = 0\n",
        "    with torch.no_grad():\n",
        "        for X_batch, y_batch in loader:\n",
        "            X_batch, y_batch = X_batch.to(device), y_batch.to(device)\n",
        "            outputs = model(X_batch)\n",
        "            correct += (torch.abs(outputs - y_batch) < tolerance).sum().item()\n",
        "            total += y_batch.numel()\n",
        "    return (correct / total) * 100\n",
        "\n",
        "def train_and_evaluate_with_scheduler(model, train_loader, test_loader, criterion, optimizer,\n",
        "                                      scheduler, num_epochs, device, tolerance=0.1, early_stopping_patience=10):\n",
        "    \"\"\"\n",
        "    Train the GRU model with learning rate scheduling and early stopping.\n",
        "\n",
        "    Parameters:\n",
        "    - model: GRU model.\n",
        "    - train_loader: DataLoader for training data.\n",
        "    - test_loader: DataLoader for testing data.\n",
        "    - criterion: Loss function.\n",
        "    - optimizer: Optimization algorithm.\n",
        "    - scheduler: Learning rate scheduler.\n",
        "    - num_epochs: Total number of epochs.\n",
        "    - device: CPU or GPU device.\n",
        "    - tolerance: Tolerance for accuracy calculation.\n",
        "    - early_stopping_patience: Number of epochs to wait for improvement before stopping.\n",
        "\n",
        "    Returns:\n",
        "    - Lists of training losses, training accuracies, testing losses, and testing accuracies.\n",
        "    \"\"\"\n",
        "    train_losses = []\n",
        "    train_accuracies = []\n",
        "    test_losses = []\n",
        "    test_accuracies = []\n",
        "\n",
        "    best_test_loss = float('inf')\n",
        "    patience_counter = 0\n",
        "\n",
        "    for epoch in range(num_epochs):\n",
        "        model.train()\n",
        "        running_loss = 0.0\n",
        "\n",
        "        # Training loop.\n",
        "        for X_batch, y_batch in train_loader:\n",
        "            X_batch, y_batch = X_batch.to(device), y_batch.to(device)\n",
        "            optimizer.zero_grad()\n",
        "            outputs = model(X_batch)\n",
        "            loss = criterion(outputs, y_batch)\n",
        "            loss.backward()\n",
        "            optimizer.step()\n",
        "            running_loss += loss.item() * X_batch.size(0)\n",
        "\n",
        "        epoch_train_loss = running_loss / len(train_loader.dataset)\n",
        "        train_losses.append(epoch_train_loss)\n",
        "        train_acc = compute_epoch_accuracy(model, train_loader, device, tolerance)\n",
        "        train_accuracies.append(train_acc)\n",
        "\n",
        "        # Evaluation loop on test set.\n",
        "        model.eval()\n",
        "        running_loss = 0.0\n",
        "        with torch.no_grad():\n",
        "            for X_batch, y_batch in test_loader:\n",
        "                X_batch, y_batch = X_batch.to(device), y_batch.to(device)\n",
        "                outputs = model(X_batch)\n",
        "                loss = criterion(outputs, y_batch)\n",
        "                running_loss += loss.item() * X_batch.size(0)\n",
        "        epoch_test_loss = running_loss / len(test_loader.dataset)\n",
        "        test_losses.append(epoch_test_loss)\n",
        "        test_acc = compute_epoch_accuracy(model, test_loader, device, tolerance)\n",
        "        test_accuracies.append(test_acc)\n",
        "\n",
        "        print(f\"Epoch {epoch+1}/{num_epochs}: Train Loss: {epoch_train_loss:.4f}, Train Acc: {train_acc:.2f}%, \" +\n",
        "              f\"Test Loss: {epoch_test_loss:.4f}, Test Acc: {test_acc:.2f}%\")\n",
        "\n",
        "        # Scheduler step: adjust learning rate based on test loss.\n",
        "        scheduler.step(epoch_test_loss)\n",
        "\n",
        "        # Early stopping check.\n",
        "        if epoch_test_loss < best_test_loss:\n",
        "            best_test_loss = epoch_test_loss\n",
        "            patience_counter = 0\n",
        "            torch.save(model.state_dict(), 'best_gru_model.pt')\n",
        "        else:\n",
        "            patience_counter += 1\n",
        "            if patience_counter >= early_stopping_patience:\n",
        "                print(\"Early stopping triggered!\")\n",
        "                break\n",
        "\n",
        "    return train_losses, train_accuracies, test_losses, test_accuracies\n",
        "\n",
        "def plot_loss_and_accuracy(train_losses, test_losses, train_acc, test_acc, num_epochs):\n",
        "    \"\"\"\n",
        "    Plot training and testing loss and accuracy over epochs using subplots.\n",
        "    \"\"\"\n",
        "    epochs = range(1, num_epochs + 1)\n",
        "\n",
        "    fig, axes = plt.subplots(1, 2, figsize=(14, 6))\n",
        "\n",
        "    # Plot Loss.\n",
        "    axes[0].plot(epochs, train_losses, marker='o', linestyle='-', linewidth=2, label='Train Loss', color='blue')\n",
        "    axes[0].plot(epochs, test_losses, marker='s', linestyle='--', linewidth=2, label='Test Loss', color='red')\n",
        "    axes[0].set_xlabel('Epoch', fontsize=14)\n",
        "    axes[0].set_ylabel('Loss', fontsize=14)\n",
        "    axes[0].set_title('Loss vs Epochs', fontsize=16)\n",
        "    axes[0].grid(True, linestyle='--', alpha=0.5)\n",
        "    axes[0].legend(fontsize=12)\n",
        "\n",
        "    # Plot Accuracy.\n",
        "    axes[1].plot(epochs, train_acc, marker='o', linestyle='-', linewidth=2, label='Train Accuracy', color='green')\n",
        "    axes[1].plot(epochs, test_acc, marker='s', linestyle='--', linewidth=2, label='Test Accuracy', color='orange')\n",
        "    axes[1].set_xlabel('Epoch', fontsize=14)\n",
        "    axes[1].set_ylabel('Accuracy (%)', fontsize=14)\n",
        "    axes[1].set_title('Accuracy vs Epochs', fontsize=16)\n",
        "    axes[1].grid(True, linestyle='--', alpha=0.5)\n",
        "    axes[1].legend(fontsize=12)\n",
        "\n",
        "    plt.tight_layout()\n",
        "    plt.show()"
      ],
      "metadata": {
        "id": "uyjo8tdSIRiW"
      },
      "execution_count": 8,
      "outputs": []
    },
    {
      "cell_type": "code",
      "source": [
        "# ============================\n",
        "# Model Training with Optimized Parameters\n",
        "# ============================\n",
        "# Set hyperparameters for the GRU model.\n",
        "input_size = 5         # Number of features per time step.\n",
        "hidden_size = 64       # Number of GRU hidden units.\n",
        "num_layers = 2         # Number of stacked GRU layers.\n",
        "output_size = 1        # Predicting one output value (temperature).\n",
        "num_epochs = 20        # Total training epochs.\n",
        "learning_rate = 0.00001  # Initial learning rate.\n",
        "weight_decay = 1e-5    # L2 regularization factor.\n",
        "device = torch.device(\"cuda\" if torch.cuda.is_available() else \"cpu\")\n",
        "\n",
        "# Instantiate the GRU model.\n",
        "gru_model = GRUModel(input_size, hidden_size, num_layers, output_size, dropout=0.1).to(device)\n",
        "criterion = nn.MSELoss()  # Mean Squared Error loss for regression.\n",
        "optimizer = optim.Adam(gru_model.parameters(), lr=learning_rate, weight_decay=weight_decay)\n",
        "# Learning rate scheduler: reduces LR if test loss plateaus.\n",
        "scheduler = optim.lr_scheduler.ReduceLROnPlateau(optimizer, mode='min', factor=0.5, patience=3, verbose=True)\n",
        "\n",
        "print(\"\\nTraining GRU Model with Optimized Parameters...\")\n",
        "train_losses, train_acc, test_losses, test_acc = train_and_evaluate_with_scheduler(\n",
        "    gru_model, train_loader, test_loader, criterion, optimizer, scheduler,\n",
        "    num_epochs, device, tolerance=0.1, early_stopping_patience=10\n",
        ")\n",
        "\n",
        "# Plot loss and accuracy over epochs.\n",
        "plot_loss_and_accuracy(train_losses, test_losses, train_acc, test_acc, num_epochs)\n"
      ],
      "metadata": {
        "colab": {
          "base_uri": "https://localhost:8080/",
          "height": 1000
        },
        "id": "gTOf56FSIbVW",
        "outputId": "850fd5d1-426e-4c0c-ffa9-803d5d1da25a"
      },
      "execution_count": 9,
      "outputs": [
        {
          "output_type": "stream",
          "name": "stderr",
          "text": [
            "/usr/local/lib/python3.11/dist-packages/torch/optim/lr_scheduler.py:62: UserWarning: The verbose parameter is deprecated. Please use get_last_lr() to access the learning rate.\n",
            "  warnings.warn(\n"
          ]
        },
        {
          "output_type": "stream",
          "name": "stdout",
          "text": [
            "\n",
            "Training GRU Model with Optimized Parameters...\n",
            "Epoch 1/20: Train Loss: 0.1249, Train Acc: 46.12%, Test Loss: 0.0246, Test Acc: 50.18%\n",
            "Epoch 2/20: Train Loss: 0.0187, Train Acc: 52.56%, Test Loss: 0.0134, Test Acc: 58.38%\n",
            "Epoch 3/20: Train Loss: 0.0156, Train Acc: 56.43%, Test Loss: 0.0115, Test Acc: 63.79%\n",
            "Epoch 4/20: Train Loss: 0.0132, Train Acc: 62.34%, Test Loss: 0.0095, Test Acc: 69.30%\n",
            "Epoch 5/20: Train Loss: 0.0108, Train Acc: 68.54%, Test Loss: 0.0079, Test Acc: 74.06%\n",
            "Epoch 6/20: Train Loss: 0.0086, Train Acc: 74.92%, Test Loss: 0.0065, Test Acc: 78.66%\n",
            "Epoch 7/20: Train Loss: 0.0066, Train Acc: 82.01%, Test Loss: 0.0050, Test Acc: 84.01%\n",
            "Epoch 8/20: Train Loss: 0.0049, Train Acc: 89.46%, Test Loss: 0.0035, Test Acc: 90.69%\n",
            "Epoch 9/20: Train Loss: 0.0036, Train Acc: 94.18%, Test Loss: 0.0024, Test Acc: 95.41%\n",
            "Epoch 10/20: Train Loss: 0.0028, Train Acc: 96.80%, Test Loss: 0.0018, Test Acc: 97.74%\n",
            "Epoch 11/20: Train Loss: 0.0023, Train Acc: 97.86%, Test Loss: 0.0015, Test Acc: 98.44%\n",
            "Epoch 12/20: Train Loss: 0.0020, Train Acc: 98.11%, Test Loss: 0.0013, Test Acc: 98.69%\n",
            "Epoch 13/20: Train Loss: 0.0018, Train Acc: 98.44%, Test Loss: 0.0011, Test Acc: 98.88%\n",
            "Epoch 14/20: Train Loss: 0.0017, Train Acc: 98.49%, Test Loss: 0.0011, Test Acc: 98.92%\n",
            "Epoch 15/20: Train Loss: 0.0016, Train Acc: 98.69%, Test Loss: 0.0011, Test Acc: 99.06%\n",
            "Epoch 16/20: Train Loss: 0.0015, Train Acc: 98.72%, Test Loss: 0.0010, Test Acc: 99.13%\n",
            "Epoch 17/20: Train Loss: 0.0015, Train Acc: 98.81%, Test Loss: 0.0010, Test Acc: 99.13%\n",
            "Epoch 18/20: Train Loss: 0.0014, Train Acc: 98.83%, Test Loss: 0.0009, Test Acc: 99.20%\n",
            "Epoch 19/20: Train Loss: 0.0014, Train Acc: 98.85%, Test Loss: 0.0009, Test Acc: 99.22%\n",
            "Epoch 20/20: Train Loss: 0.0013, Train Acc: 98.89%, Test Loss: 0.0009, Test Acc: 99.25%\n"
          ]
        },
        {
          "output_type": "display_data",
          "data": {
            "text/plain": [
              "<Figure size 1400x600 with 2 Axes>"
            ],
            "image/png": "[encoded data removed]"
          },
          "metadata": {}
        }
      ]
    },
    {
      "cell_type": "code",
      "source": [
        "# ============================\n",
        "# Saving and Loading the Model\n",
        "# ============================\n",
        "MODEL_PATH = Path(\"models\")\n",
        "MODEL_PATH.mkdir(parents=True, exist_ok=True)\n",
        "MODEL_NAME = \"weather_gru_model_optimized.pth\"\n",
        "MODEL_SAVE_PATH = MODEL_PATH / MODEL_NAME\n",
        "\n",
        "# Save the trained GRU model.\n",
        "torch.save(gru_model.state_dict(), MODEL_SAVE_PATH)\n",
        "print(f\"Optimized GRU model saved to: {MODEL_SAVE_PATH}\")"
      ],
      "metadata": {
        "colab": {
          "base_uri": "https://localhost:8080/"
        },
        "id": "9uOyYQ8oW0sh",
        "outputId": "49339d3b-b548-4426-9c9d-99ad748b1a21"
      },
      "execution_count": 10,
      "outputs": [
        {
          "output_type": "stream",
          "name": "stdout",
          "text": [
            "Optimized GRU model saved to: models/weather_gru_model_optimized.pth\n"
          ]
        }
      ]
    },
    {
      "cell_type": "code",
      "source": [
        "# Reload the model for evaluation (optional).\n",
        "loaded_gru_model = GRUModel(input_size, hidden_size, num_layers, output_size, dropout=0.1).to(device)\n",
        "loaded_gru_model.load_state_dict(torch.load(MODEL_SAVE_PATH))\n",
        "loaded_gru_model.eval()"
      ],
      "metadata": {
        "colab": {
          "base_uri": "https://localhost:8080/"
        },
        "id": "LRn1VdazW2vR",
        "outputId": "f3394daf-814c-4179-ad88-a9e275bbf6b5"
      },
      "execution_count": 11,
      "outputs": [
        {
          "output_type": "execute_result",
          "data": {
            "text/plain": [
              "GRUModel(\n",
              "  (gru): GRU(5, 64, num_layers=2, batch_first=True, dropout=0.1)\n",
              "  (fc): Linear(in_features=64, out_features=1, bias=True)\n",
              ")"
            ]
          },
          "metadata": {},
          "execution_count": 11
        }
      ]
    },
    {
      "cell_type": "code",
      "source": [
        " # ============================\n",
        "# Final Evaluation on Test Data\n",
        "# ============================\n",
        "def evaluate_model(model, loader, criterion, device):\n",
        "    \"\"\"\n",
        "    Evaluate the model on the given data loader.\n",
        "\n",
        "    Returns the average loss over the dataset.\n",
        "    \"\"\"\n",
        "    model.eval()\n",
        "    total_loss = 0.0\n",
        "    with torch.no_grad():\n",
        "        for X_batch, y_batch in loader:\n",
        "            X_batch, y_batch = X_batch.to(device), y_batch.to(device)\n",
        "            outputs = model(X_batch)\n",
        "            loss = criterion(outputs, y_batch)\n",
        "            total_loss += loss.item() * X_batch.size(0)\n",
        "    avg_loss = total_loss / len(loader.dataset)\n",
        "    return avg_loss\n",
        "\n",
        "final_test_loss = evaluate_model(loaded_gru_model, test_loader, criterion, device)\n",
        "final_test_acc = compute_epoch_accuracy(loaded_gru_model, test_loader, device, tolerance=0.1)\n",
        "print(f\"Final Test Loss: {final_test_loss:.4f}\")\n",
        "print(f\"Final Test Accuracy: {final_test_acc:.2f}%\")\n"
      ],
      "metadata": {
        "colab": {
          "base_uri": "https://localhost:8080/"
        },
        "id": "4xyNy7apI21X",
        "outputId": "6536d23f-ae51-4f6c-ab62-9e76d03c7d4a"
      },
      "execution_count": 12,
      "outputs": [
        {
          "output_type": "stream",
          "name": "stdout",
          "text": [
            "Final Test Loss: 0.0009\n",
            "Final Test Accuracy: 99.25%\n"
          ]
        }
      ]
    },
    {
      "cell_type": "code",
      "source": [
        "# ────────────────────────────────────────────────────────────────────────────\n",
        "# Load, Evaluate & Predict with Your GRU Model\n",
        "# ────────────────────────────────────────────────────────────────────────────\n",
        "\n",
        "import torch\n",
        "import numpy as np\n",
        "\n",
        "# 1) Device\n",
        "device = torch.device(\"cuda\" if torch.cuda.is_available() else \"cpu\")\n",
        "\n",
        "# 2) Hyper-parameters (must match your training settings)\n",
        "input_size  = 5       # number of features\n",
        "hidden_size = 64      # the GRU hidden dimension you used\n",
        "num_layers  = 2       # how many GRU layers you stacked\n",
        "output_size = 1       # predicting a single temperature value\n",
        "dropout      = 0.2    # same dropout as training\n",
        "seq_length   = 10     # sequence length\n",
        "\n",
        "# 3) Re-define your GRUModel\n",
        "class GRUModel(torch.nn.Module):\n",
        "    def __init__(self, input_size, hidden_size, num_layers, output_size, dropout=0.2):\n",
        "        super().__init__()\n",
        "        self.gru = torch.nn.GRU(\n",
        "            input_size, hidden_size, num_layers,\n",
        "            batch_first=True, dropout=dropout\n",
        "        )\n",
        "        self.fc  = torch.nn.Linear(hidden_size, output_size)\n",
        "    def forward(self, x):\n",
        "        # x: (batch, seq_length, input_size)\n",
        "        out, _ = self.gru(x)            # out: (batch, seq_length, hidden_size)\n",
        "        last = out[:, -1, :]            # take last time‐step\n",
        "        return self.fc(last)            # (batch, output_size)\n",
        "\n",
        "# 4) Instantiate & load weights\n",
        "model = GRUModel(input_size, hidden_size, num_layers, output_size, dropout).to(device)\n",
        "model.load_state_dict(\n",
        "    torch.load(\"/content/models/weather_gru_model_optimized.pth\", map_location=device)\n",
        ")\n",
        "model.eval()\n",
        "\n",
        "# 5) Evaluate on your existing test_loader\n",
        "test_loss = evaluate_model(model, test_loader, criterion, device)\n",
        "test_acc  = compute_epoch_accuracy(model, test_loader, device, tolerance=0.1)\n",
        "print(f\" Test   Loss: {test_loss:.4f} \\tAccuracy: {test_acc:.2f}%\")\n",
        "\n",
        "# 6) Quick sanity‐check: one batch of raw predictions vs. ground truth\n",
        "X_batch, y_batch = next(iter(test_loader))\n",
        "with torch.no_grad():\n",
        "    Xb, yb = X_batch.to(device), y_batch.to(device)\n",
        "    preds_norm = model(Xb).cpu().numpy().flatten()\n",
        "    y_true_norm = yb.cpu().numpy().flatten()\n",
        "\n",
        "# 7) Invert scaling on those to get °C back\n",
        "dummy = np.zeros((len(preds_norm), data_scaled.shape[1]), dtype=np.float32)\n",
        "dummy[:, 0]    = preds_norm         # put your norm’d preds into first col\n",
        "dummy[:, 1:]   = Xb[:, -1, 1:].cpu().numpy()  # fill other cols with last inputs\n",
        "inverted = scaler.inverse_transform(dummy)\n",
        "preds_C = inverted[:, 0]\n",
        "true_C  = scaler.inverse_transform(\n",
        "    np.concatenate([yb.cpu().numpy(), np.zeros((len(yb),4))], axis=1)\n",
        ")[:, 0]\n",
        "\n",
        "# 8) Print a few comparisons\n",
        "for i in range(5):\n",
        "    print(f\"True: {true_C[i]:.2f}°C   Pred: {preds_C[i]:.2f}°C\")\n"
      ],
      "metadata": {
        "colab": {
          "base_uri": "https://localhost:8080/"
        },
        "id": "PclkgD85Bc6t",
        "outputId": "a99b3846-c147-4432-8b45-437287fd0387"
      },
      "execution_count": 35,
      "outputs": [
        {
          "output_type": "stream",
          "name": "stdout",
          "text": [
            " Test   Loss: 0.0009 \tAccuracy: 99.25%\n",
            "True: 1.14°C   Pred: 0.32°C\n",
            "True: 2.22°C   Pred: 0.17°C\n",
            "True: 2.92°C   Pred: 0.59°C\n",
            "True: 2.89°C   Pred: 1.71°C\n",
            "True: 2.93°C   Pred: 2.79°C\n"
          ]
        }
      ]
    }
  ]
}